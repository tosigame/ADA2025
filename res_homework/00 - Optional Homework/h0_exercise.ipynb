{
 "cells": [
  {
   "cell_type": "code",
   "execution_count": 33,
   "id": "156f719f-87c4-4367-bd83-df44c80b19e6",
   "metadata": {},
   "outputs": [],
   "source": [
    "import csv"
   ]
  },
  {
   "cell_type": "code",
   "execution_count": 34,
   "id": "33fad4a1-bb3b-438e-b0d8-07b7d4e7477b",
   "metadata": {},
   "outputs": [],
   "source": [
    "data = []\n",
    "with open(\"interactive_data.csv\",newline = \"\", encoding = \"utf-8\") as f:\n",
    "    reader = csv.DictReader(f)\n",
    "    for row in reader:\n",
    "        for k in row.keys():\n",
    "            if row[k] == \"None selected\":\n",
    "                break;\n",
    "        else:\n",
    "            data.append(row)\n",
    "        "
   ]
  },
  {
   "cell_type": "code",
   "execution_count": 35,
   "id": "27cfb1cb-4412-44db-9b15-ce006ab05aaf",
   "metadata": {},
   "outputs": [
    {
     "name": "stdout",
     "output_type": "stream",
     "text": [
      "total gun deaths:  33595\n",
      "total suicide gun deaths:  21058\n",
      "Percentage of suicide:  62.68194671826165 %\n",
      "\n",
      "Total suicide males 18161\n",
      "Suicide Male ratio 86.24275809668535 %\n",
      "Total homicide deaths 11727\n",
      "Homicide ratio 34.906980205387704 %\n",
      "young_male_homicide 6521\n",
      "young black homocide ratio 66.12482748044778 %\n",
      "Homicide Women ratio 15.289502856655583 %\n"
     ]
    }
   ],
   "source": [
    "def get_gun_deaths(data):\n",
    "    total_suicide = sum(int(d[\"Deaths\"]) for d in data if d[\"Intent\"] == \"Suicide\")\n",
    "    total = sum(int(d[\"Deaths\"]) for d in data)\n",
    "\n",
    "    print(\"total gun deaths: \",total)\n",
    "    print(\"total suicide gun deaths: \",total_suicide)\n",
    "    print(\"Percentage of suicide: \",(total_suicide/total)*100,\"%\\n\")\n",
    "\n",
    "    total_male_suicide = sum(int(d[\"Deaths\"]) for d in data if(d[\"Intent\"] == \"Suicide\" and d[\"Gender\"]==\"Male\"))\n",
    "    print(\"Total suicide males\",total_male_suicide)\n",
    "    print(\"Suicide Male ratio\", (total_male_suicide/total_suicide)*100,\"%\")\n",
    "\n",
    "    total_homicide = sum(int(d[\"Deaths\"]) for d in data if d[\"Intent\"] == \"Homicide\")\n",
    "    print(\"Total homicide deaths\",total_homicide)\n",
    "    print(\"Homicide ratio\", (total_homicide/total)*100,\"%\")\n",
    "\n",
    "    \n",
    "    young_male_homicide = sum(int(d[\"Deaths\"]) for d in data \n",
    "                                   if (d[\"Intent\"] == \"Homicide\") and\n",
    "                                       d[\"Gender\"] == \"Male\" and\n",
    "                                       d[\"Age\"] == \"15 - 34\")\n",
    "\n",
    "    young_black_male_homicide = sum(int(d[\"Deaths\"]) for d in data \n",
    "                                   if (d[\"Intent\"] == \"Homicide\") and\n",
    "                                       d[\"Gender\"] == \"Male\" and\n",
    "                                       d[\"Age\"] == \"15 - 34\" and\n",
    "                                       d[\"Race\"]==\"Black\")\n",
    "\n",
    "    \n",
    "    print(\"young_male_homicide\", young_male_homicide)\n",
    "    print(\"young black homocide ratio\", (young_black_male_homicide/young_male_homicide)*100,\"%\")\n",
    "\n",
    "    women_homicide = sum(int(d[\"Deaths\"]) for d in data if d[\"Intent\"] == \"Homicide\" and d[\"Gender\"] == \"Female\")\n",
    "    print(\"Homicide Women ratio\", (women_homicide/total_homicide)*100,\"%\")\n",
    "\n",
    "get_gun_deaths(data)\n"
   ]
  },
  {
   "cell_type": "code",
   "execution_count": null,
   "id": "f8fdbbb0-f4b6-46fe-991a-202ec9e10ac1",
   "metadata": {},
   "outputs": [],
   "source": []
  }
 ],
 "metadata": {
  "kernelspec": {
   "display_name": "Python (kaggle-env)",
   "language": "python",
   "name": "kaggle-env"
  },
  "language_info": {
   "codemirror_mode": {
    "name": "ipython",
    "version": 3
   },
   "file_extension": ".py",
   "mimetype": "text/x-python",
   "name": "python",
   "nbconvert_exporter": "python",
   "pygments_lexer": "ipython3",
   "version": "3.11.6"
  }
 },
 "nbformat": 4,
 "nbformat_minor": 5
}
